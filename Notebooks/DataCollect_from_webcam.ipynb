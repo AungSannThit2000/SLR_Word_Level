{
 "cells": [
  {
   "cell_type": "code",
   "execution_count": 2,
   "id": "e905234c",
   "metadata": {},
   "outputs": [],
   "source": [
    "import numpy as np\n",
    "import cv2 as cv\n",
    "import os\n",
    "import numpy as np\n",
    "from glob import glob"
   ]
  },
  {
   "cell_type": "code",
   "execution_count": 3,
   "id": "ba942620",
   "metadata": {},
   "outputs": [],
   "source": [
    "output_path = \"dataset/custom_raw_data/hello\"\n",
    "\n",
    "# Actions that we try to detect\n",
    "# words = np.array(['မင်္ဂလာပါ', 'မှန်တယ်', 'မှားတယ်'])\n",
    "words = np.array(['hello', 'like', 'dislike'])\n",
    "\n",
    "# Thirty videos worth of data\n",
    "no_sequences = 5\n",
    "\n",
    "# Videos are going to be 30 frames in length\n",
    "sequence_length = 120\n",
    "\n",
    "# Folder start\n",
    "start_folder = 1"
   ]
  },
  {
   "cell_type": "code",
   "execution_count": 1,
   "id": "96c4fa26",
   "metadata": {},
   "outputs": [
    {
     "ename": "NameError",
     "evalue": "name 'cv' is not defined",
     "output_type": "error",
     "traceback": [
      "\u001b[1;31m---------------------------------------------------------------------------\u001b[0m",
      "\u001b[1;31mNameError\u001b[0m                                 Traceback (most recent call last)",
      "Cell \u001b[1;32mIn[1], line 1\u001b[0m\n\u001b[1;32m----> 1\u001b[0m cap \u001b[38;5;241m=\u001b[39m \u001b[43mcv\u001b[49m\u001b[38;5;241m.\u001b[39mVideoCapture(\u001b[38;5;241m0\u001b[39m)\n\u001b[0;32m      2\u001b[0m \u001b[38;5;66;03m# Loop through sequences aka videos\u001b[39;00m\n\u001b[0;32m      3\u001b[0m \u001b[38;5;28;01mfor\u001b[39;00m sequence \u001b[38;5;129;01min\u001b[39;00m \u001b[38;5;28mrange\u001b[39m(start_folder, start_folder\u001b[38;5;241m+\u001b[39mno_sequences):\n",
      "\u001b[1;31mNameError\u001b[0m: name 'cv' is not defined"
     ]
    }
   ],
   "source": [
    "cap = cv.VideoCapture(0)\n",
    "# Loop through sequences aka videos\n",
    "for sequence in range(start_folder, start_folder+no_sequences):\n",
    "        \n",
    "    if not os.path.exists(f'{output_path}'):\n",
    "        os.makedirs(os.path.join(f'{output_path}'))\n",
    "    else:\n",
    "        result = cv.VideoWriter(f'{output_path}/{sequence}.mp4', \n",
    "                                        cv.VideoWriter_fourcc(*'MP4V'), 60, (640,480))\n",
    "        result_flip = cv.VideoWriter(f'{output_path}/flip_{sequence}.mp4', \n",
    "                                        cv.VideoWriter_fourcc(*'MP4V'), 60, (640,480))\n",
    "        # Loop through video length aka sequence length\n",
    "        for frame_num in range(1, sequence_length+1):\n",
    "\n",
    "            # Read feed\n",
    "            ret, image = cap.read()\n",
    "            \n",
    "            img_resize = cv.resize(image, (640, 480))\n",
    "            img_flip = cv.flip(img_resize, 1)\n",
    "            # NEW Apply wait logic\n",
    "            if frame_num == 1: \n",
    "                cv.putText(img_resize, 'STARTING COLLECTION', (120,200), \n",
    "                            cv.FONT_HERSHEY_SIMPLEX, 1, (0,255, 0), 4, cv.LINE_AA)\n",
    "                cv.putText(img_resize, f'Collecting frames Video Number {sequence}', (15,12), \n",
    "                            cv.FONT_HERSHEY_SIMPLEX, 0.5, (0, 0, 255), 1, cv.LINE_AA)\n",
    "                    \n",
    "                result.write(img_resize)\n",
    "                result_flip.write(img_flip)\n",
    "                # Show to screen\n",
    "                cv.imshow('OpenCV Feed', img_resize)\n",
    "                cv.imshow('OpenCv Flip', img_flip)\n",
    "                cv.waitKey(1000)\n",
    "                    \n",
    "            else: \n",
    "                cv.putText(img_resize, f'Collecting frames Video Number {sequence}', (15,12), \n",
    "                    cv.FONT_HERSHEY_SIMPLEX, 0.5, (0, 0, 255), 1, cv.LINE_AA)\n",
    "                    \n",
    "                result.write(img_resize)\n",
    "                result_flip.write(img_flip)\n",
    "                # Show to screen\n",
    "                cv.imshow('OpenCV Feed', img_resize)\n",
    "                cv.imshow('OpenCv Flip', img_flip)\n",
    "            # Break gracefully\n",
    "            if cv.waitKey(10) & 0xFF == ord('q'):\n",
    "                break\n",
    "                \n",
    "cap.release()\n",
    "cv.destroyAllWindows()"
   ]
  },
  {
   "cell_type": "code",
   "execution_count": 12,
   "id": "f12fa171",
   "metadata": {},
   "outputs": [],
   "source": [
    "cap.release()\n",
    "cv.destroyAllWindows()"
   ]
  },
  {
   "cell_type": "code",
   "execution_count": null,
   "id": "6cb56b73",
   "metadata": {},
   "outputs": [],
   "source": []
  },
  {
   "cell_type": "code",
   "execution_count": null,
   "id": "8ed0b6e3",
   "metadata": {},
   "outputs": [],
   "source": []
  },
  {
   "cell_type": "code",
   "execution_count": null,
   "id": "1868d7a9",
   "metadata": {},
   "outputs": [],
   "source": []
  }
 ],
 "metadata": {
  "kernelspec": {
   "display_name": "Python 3 (ipykernel)",
   "language": "python",
   "name": "python3"
  },
  "language_info": {
   "codemirror_mode": {
    "name": "ipython",
    "version": 3
   },
   "file_extension": ".py",
   "mimetype": "text/x-python",
   "name": "python",
   "nbconvert_exporter": "python",
   "pygments_lexer": "ipython3",
   "version": "3.9.15"
  }
 },
 "nbformat": 4,
 "nbformat_minor": 5
}
